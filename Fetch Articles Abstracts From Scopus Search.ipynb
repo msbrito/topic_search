{
 "cells": [
  {
   "cell_type": "markdown",
   "metadata": {},
   "source": [
    "# Fetch Articles Abstracts from Scopus Search API\n",
    "\n",
    "### by Miguel Silva Brito\n",
    "\n",
    "### Dec, 2017\n",
    "\n",
    "First you need an API KEY from Scopus, get it from https://dev.elsevier.com\n",
    "\n",
    "Remember to connect to your University VPN first!\n"
   ]
  },
  {
   "cell_type": "code",
   "execution_count": null,
   "metadata": {
    "collapsed": true
   },
   "outputs": [],
   "source": [
    "API_KEY=\"\"##### <<<<<<<< CHANGE HERE!!!!"
   ]
  },
  {
   "cell_type": "code",
   "execution_count": 108,
   "metadata": {
    "collapsed": true
   },
   "outputs": [],
   "source": [
    "#max number of results to fetch each time depending of Service Level in Scopus API \n",
    "COUNT=5"
   ]
  },
  {
   "cell_type": "markdown",
   "metadata": {},
   "source": [
    "Your query in here"
   ]
  },
  {
   "cell_type": "code",
   "execution_count": 109,
   "metadata": {
    "collapsed": true
   },
   "outputs": [],
   "source": [
    "QUERY=\"MACHINE LEARNING FORECAST DEMAND \""
   ]
  },
  {
   "cell_type": "code",
   "execution_count": 110,
   "metadata": {
    "collapsed": true
   },
   "outputs": [],
   "source": [
    "import requests\n",
    "import json\n",
    "import pandas as pd"
   ]
  },
  {
   "cell_type": "markdown",
   "metadata": {},
   "source": [
    "### Search request to Scopus API"
   ]
  },
  {
   "cell_type": "code",
   "execution_count": 111,
   "metadata": {},
   "outputs": [],
   "source": [
    "def run_scopus_search(start):\n",
    "    resp = requests.get(\"http://api.elsevier.com/content/search/scopus?start=%s&count=%s&query=%s\" % (str(start),str(COUNT),QUERY),\n",
    "                        headers={'Accept':'application/json','X-ELS-APIKey': API_KEY})\n",
    "    print(\"fetching Scopus IDs... %d \" % start)\n",
    "    results= json.loads(resp.text.encode('utf-8'))\n",
    "    return results"
   ]
  },
  {
   "cell_type": "markdown",
   "metadata": {},
   "source": [
    "### Return scopus IDs from results "
   ]
  },
  {
   "cell_type": "code",
   "execution_count": 112,
   "metadata": {
    "collapsed": true
   },
   "outputs": [],
   "source": [
    "def get_scopus_ids(results):\n",
    "    return [[str(r['dc:identifier'])] for r in results['search-results'][\"entry\"]]"
   ]
  },
  {
   "cell_type": "markdown",
   "metadata": {},
   "source": [
    "### Return total numbers of articles found "
   ]
  },
  {
   "cell_type": "code",
   "execution_count": 113,
   "metadata": {
    "collapsed": true
   },
   "outputs": [],
   "source": [
    "def get_totalResults(results):\n",
    "    return int(results['search-results']['opensearch:totalResults'])"
   ]
  },
  {
   "cell_type": "markdown",
   "metadata": {},
   "source": [
    "### Return basic info about article"
   ]
  },
  {
   "cell_type": "code",
   "execution_count": 114,
   "metadata": {},
   "outputs": [],
   "source": [
    "def get_scopus_info(SCOPUS_ID):\n",
    "    url = (\"https://api.elsevier.com/content/abstract/scopus_id/\"+ SCOPUS_ID + \"?view=FULL\")\n",
    "    resp = requests.get(url,headers={'Accept':'application/json','X-ELS-APIKey': API_KEY})\n",
    "\n",
    "    return json.loads(resp.text.encode('utf-8'))"
   ]
  },
  {
   "cell_type": "markdown",
   "metadata": {},
   "source": [
    "### Return abstract article"
   ]
  },
  {
   "cell_type": "code",
   "execution_count": 115,
   "metadata": {},
   "outputs": [],
   "source": [
    "def get_scopus_text(SCOPUS_ID):\n",
    "    url = (\"https://api.elsevier.com/content/article/scopus_id/\" + SCOPUS_ID + \"?view=FULL\")\n",
    "    resp = requests.get(url,headers={'Accept':'application/json','X-ELS-APIKey': API_KEY})\n",
    "    return json.loads(resp.text.encode('utf-8'))"
   ]
  },
  {
   "cell_type": "markdown",
   "metadata": {},
   "source": [
    "because fetching results could take hours we store results in base file in case the process is interrupt, you can start it again without fetch again the abstracts"
   ]
  },
  {
   "cell_type": "code",
   "execution_count": 134,
   "metadata": {},
   "outputs": [],
   "source": [
    "from pathlib import Path\n",
    "number_articles_allready_load=0\n",
    "base = Path(\"./data/scopus_search_base.csv\")\n",
    "base_exist=False\n",
    "new_base_exist=False\n",
    "if base.is_file():\n",
    "    article_set_readed=pd.read_csv(\"./data/scopus_search_base.csv\")\n",
    "    base_exist=True\n",
    "    number_articles_allready_load=article_set.shape[0]\n",
    "    print('base exists ,%d articles '% number_articles_allready_load) \n",
    "new_base_exist=base_exist"
   ]
  },
  {
   "cell_type": "markdown",
   "metadata": {},
   "source": [
    "### Main\n",
    "\n",
    "run scopus search, return top 200 and number of total articles\n",
    "loop by next 200 until reach total articles\n",
    "\n",
    "write dataset to csv file"
   ]
  },
  {
   "cell_type": "code",
   "execution_count": null,
   "metadata": {
    "scrolled": false
   },
   "outputs": [
    {
     "name": "stdout",
     "output_type": "stream",
     "text": [
      "fetching Scopus IDs... 0 \n",
      "number of scopus ids fetched : 5 de 4600\n",
      "fetching 1 / 4600...\n",
      "fetching 2 / 4600...\n",
      "fetching 3 / 4600...\n",
      "fetching 4 / 4600...\n",
      "fetching 5 / 4600...\n",
      "creating base\n",
      "fetching Scopus IDs... 5 \n",
      "[['SCOPUS_ID:85036466647'], ['SCOPUS_ID:85034648827'], ['SCOPUS_ID:85032699626'], ['SCOPUS_ID:85038823053'], ['SCOPUS_ID:85037706900']]\n",
      "number of scopus ids fetched : 10 de 4600\n",
      "fetching 6 / 4600...\n",
      "fetching 7 / 4600...\n",
      "fetching 8 / 4600...\n",
      "fetching 9 / 4600...\n",
      "fetching 10 / 4600...\n",
      "append to base\n",
      "fetching Scopus IDs... 10 \n",
      "[['SCOPUS_ID:85038106127'], ['SCOPUS_ID:85037134079'], ['SCOPUS_ID:85030096149'], ['SCOPUS_ID:85034661580'], ['SCOPUS_ID:85030764780']]\n",
      "number of scopus ids fetched : 15 de 4600\n",
      "fetching 11 / 4600...\n",
      "fetching 12 / 4600...\n",
      "fetching 13 / 4600...\n",
      "fetching 14 / 4600...\n",
      "fetching 15 / 4600...\n",
      "append to base\n",
      "fetching Scopus IDs... 15 \n",
      "[['SCOPUS_ID:85037983717'], ['SCOPUS_ID:85037057898'], ['SCOPUS_ID:85038860726'], ['SCOPUS_ID:85037716726'], ['SCOPUS_ID:85036461446']]\n",
      "number of scopus ids fetched : 20 de 4600\n",
      "fetching 16 / 4600...\n"
     ]
    }
   ],
   "source": [
    "start=0\n",
    "article_data=[]\n",
    "\n",
    "n=0\n",
    "\n",
    "results=run_scopus_search(start)\n",
    "totalResults=get_totalResults(results)\n",
    "\n",
    "scopus_ids=get_scopus_ids(results)\n",
    "if base_exist==True:\n",
    "    scopus_idsdf=pd.DataFrame(scopus_ids)\n",
    "    scopus_ids=scopus_idsdf[~scopus_idsdf.isin(article_set_readed['Scopus_ID'])].dropna(how='all').values\n",
    "\n",
    "n_ids_fetched =len(scopus_ids)\n",
    "print(\"number of scopus ids fetched : %d de %d\" % (n_ids_fetched,totalResults))\n",
    "\n",
    "while (n<totalResults-number_articles_allready_load):\n",
    "    nn=0\n",
    "    for scopus_id in scopus_ids:\n",
    "\n",
    "        results_info = get_scopus_info(scopus_id[0])\n",
    "        results_text = get_scopus_text(scopus_id[0])\n",
    "        try:\n",
    "            title=results_info['abstracts-retrieval-response']['coredata']['dc:title']\n",
    "            pubDate=results_info['abstracts-retrieval-response']['coredata']['prism:coverDate']\n",
    "            try:\n",
    "                abstract=str(results_text['full-text-retrieval-response']['coredata']['dc:description'])\n",
    "                abstract=abstract.replace('Abstract\\n               \\n                  ','')\n",
    "            except:\n",
    "                abstract='(not available)'\n",
    "            print(\"fetching %d / %d...\" % (n+1,totalResults)) \n",
    "            n=n+1\n",
    "            nn=nn+1\n",
    "            author=[[str(row['ce:indexed-name'])] for row in results_info['abstracts-retrieval-response']['coredata']['dc:creator']['author']]\n",
    "            article_data.append({'Scopus_ID' : scopus_id[0],'title':title,'pubDate':pubDate,'abstract': abstract,'author': author[0][0]})\n",
    "        except:\n",
    "            pass\n",
    "    if nn>0:\n",
    "        article_set=pd.DataFrame(article_data)\n",
    "        article_data=[]\n",
    "        if (new_base_exist==False):\n",
    "            print('creating base')\n",
    "            article_set.to_csv(\"./data/scopus_search_base.csv\",sep=';',index=False)\n",
    "            new_base_exist=True\n",
    "        else:\n",
    "            print('append to base')\n",
    "            article_set.to_csv(\"./data/scopus_search_base.csv\",mode=\"a\",sep=';',header=False,index=False)\n",
    "           \n",
    "    start=start+n_ids_fetched\n",
    "    results=run_scopus_search(start)\n",
    "    scopus_ids=get_scopus_ids(results)\n",
    "    n_ids_fetched =len(scopus_ids)\n",
    "    if base_exist==True:\n",
    "        scopus_idsdf=pd.DataFrame(scopus_ids)\n",
    "        scopus_ids=scopus_idsdf[~scopus_idsdf.isin(article_set_readed['Scopus_ID'])].dropna(how='all').values\n",
    "        print('novos artigos= %d %d' % (len(scopus_ids),article_set_readed.shape[0]))\n",
    "    print(\"number of scopus ids fetched : %d de %d\" % (n_ids_fetched+start,totalResults))\n",
    "print(\"Finish!\")"
   ]
  },
  {
   "cell_type": "code",
   "execution_count": null,
   "metadata": {},
   "outputs": [],
   "source": [
    "article_set=pd.read_csv(\"./data/scopus_search_base.csv\") \n",
    "print(article_set.info)\n",
    "print(article_set.head)"
   ]
  },
  {
   "cell_type": "code",
   "execution_count": null,
   "metadata": {
    "collapsed": true
   },
   "outputs": [],
   "source": []
  }
 ],
 "metadata": {
  "kernelspec": {
   "display_name": "Python 3",
   "language": "python",
   "name": "python3"
  },
  "language_info": {
   "codemirror_mode": {
    "name": "ipython",
    "version": 3
   },
   "file_extension": ".py",
   "mimetype": "text/x-python",
   "name": "python",
   "nbconvert_exporter": "python",
   "pygments_lexer": "ipython3",
   "version": "3.6.3"
  }
 },
 "nbformat": 4,
 "nbformat_minor": 2
}

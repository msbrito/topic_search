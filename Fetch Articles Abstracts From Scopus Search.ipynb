{
 "cells": [
  {
   "cell_type": "markdown",
   "metadata": {},
   "source": [
    "# FETCH ARTICLES ABSTRACTS FROM SCOPUS SEARCH\n",
    "\n",
    "## Miguel Brito\n",
    "\n",
    "\n",
    "First you need an API KEY from Scopus, get it from https://dev.elsevier.com"
   ]
  },
  {
   "cell_type": "code",
   "execution_count": 1,
   "metadata": {
    "collapsed": true
   },
   "outputs": [],
   "source": [
    "\n",
    "API_KEY=\"dad9618fb94619c7600007661fff829e\"\n"
   ]
  },
  {
   "cell_type": "markdown",
   "metadata": {},
   "source": [
    "Your query in here"
   ]
  },
  {
   "cell_type": "code",
   "execution_count": 2,
   "metadata": {
    "collapsed": true
   },
   "outputs": [],
   "source": [
    "QUERY=\"MACHINE LEARNING FORECAST DEMAND \""
   ]
  },
  {
   "cell_type": "code",
   "execution_count": 3,
   "metadata": {},
   "outputs": [],
   "source": [
    "import requests\n",
    "import json\n",
    "import pandas as pd\n",
    "\n",
    "def get_scopus_ids():\n",
    "    resp = requests.get(\"http://api.elsevier.com/content/search/scopus?query=%s\" % (QUERY),\n",
    "                        headers={'Accept':'application/json','X-ELS-APIKey': API_KEY})\n",
    "    results= json.loads(resp.text.encode('utf-8'))\n",
    "    return [[str(r['dc:identifier'])] for r in results['search-results'][\"entry\"]]"
   ]
  },
  {
   "cell_type": "code",
   "execution_count": 5,
   "metadata": {},
   "outputs": [],
   "source": [
    "#import textwrap\n",
    "def get_scopus_info(SCOPUS_ID):\n",
    "    url = (\"https://api.elsevier.com/content/abstract/scopus_id/\"+ SCOPUS_ID + \"?view=FULL\")\n",
    "    resp = requests.get(url,headers={'Accept':'application/json','X-ELS-APIKey': API_KEY})\n",
    "\n",
    "    return json.loads(resp.text.encode('utf-8'))"
   ]
  },
  {
   "cell_type": "code",
   "execution_count": 6,
   "metadata": {},
   "outputs": [],
   "source": [
    "def get_scopus_text(SCOPUS_ID):\n",
    "    url = (\"https://api.elsevier.com/content/article/scopus_id/\" + SCOPUS_ID + \"?view=FULL\")\n",
    "    resp = requests.get(url,headers={'Accept':'application/json','X-ELS-APIKey': API_KEY})\n",
    "    return json.loads(resp.text.encode('utf-8'))"
   ]
  },
  {
   "cell_type": "code",
   "execution_count": 24,
   "metadata": {},
   "outputs": [
    {
     "name": "stdout",
     "output_type": "stream",
     "text": [
      "number of articles fetched : 25 \n",
      "0 Modeling and forecasting hotel room demand based on advance booking information , 2018-06-01 , [['Lee M.']]\n",
      "\n",
      "1 A scaling law for short term load forecasting on varying levels of aggregation , 2018-06-01 , [['Sevlian R.']]\n",
      "\n",
      "2 Workload prediction in cloud using artificial neural network and adaptive differential evolution , 2018-04-01 , [['Kumar J.']]\n",
      "\n",
      "3 Effects of user-provided photos on hotel review helpfulness: An analytical approach with deep leaning , 2018-04-01 , [['Ma Y.']]\n",
      "\n",
      "4 Short term wind power forecasting using hybrid variational mode decomposition and multi-kernel regularized pseudo inverse neural network , 2018-04-01 , [['Naik J.']]\n",
      "\n",
      "5 Applying 3D texture algorithms on MRI to evaluate quality traits of loin , 2018-04-01 , [['Avila M.']]\n",
      "\n",
      "6 PV based EV charging at universities using supplied historical PV output ramp , 2018-04-01 , [['Islam M.S.']]\n",
      "\n",
      "7 Novel probabilistic optimization model for lead-acid and vanadium redox flow batteries under real-time pricing programs , 2018-04-01 , [['Lujano-Rojas J.M.']]\n",
      "\n",
      "8 GreenSched: An intelligent energy aware scheduling for deadline-and-budget constrained cloud tasks , 2018-03-01 , [['Kaur T.']]\n",
      "\n",
      "9 OrganoRelease – A framework for modeling the release of organic chemicals from the use and post-use of consumer products , 2018-03-01 , [['Tao M.']]\n",
      "\n",
      "10 Iterative multi-task learning for time-series modeling of solar panel PV outputs , 2018-02-15 , [['Shireen T.']]\n",
      "\n",
      "11 A universal deep learning approach for modeling the flow of patients under different severities , 2018-02-01 , [['Jiang S.']]\n",
      "\n",
      "12 Improving cash logistics in bank branches by coupling machine learning and robust optimization , 2018-02-01 , [['Lopez Lazaro J.']]\n",
      "\n",
      "13 An analysis-forecast system for uncertainty modeling of wind speed: A case study of large-scale wind farms , 2018-02-01 , [['Wang J.']]\n",
      "\n",
      "14 Price forecasting for spot instances in Cloud computing , 2018-02-01 , [['Cai Z.']]\n",
      "\n",
      "15 Gigawatt-hour scale savings on a budget of zero: Deep reinforcement learning based optimal control of hot water systems , 2018-02-01 , [['Kazmi H.']]\n",
      "\n",
      "16 A Bayesian Network model for predicting cooling load of commercial buildings , 2018-02-01 , [['Huang S.']]\n",
      "\n",
      "17 Forecasting mid-long term electric energy consumption through bagging ARIMA and exponential smoothing methods , 2018-02-01 , [['de Oliveira E.M.']]\n",
      "\n",
      "18 Enhancing water system models by integrating big data , 2018-02-01 , [['Shafiee M.E.']]\n",
      "\n",
      "19 Forecasting day-ahead electricity prices in Europe: The importance of considering market integration , 2018-02-01 , [['Lago J.']]\n",
      "\n",
      "20 Research and application of a combined model based on variable weight for short term wind speed forecasting , 2018-02-01 , [['Li H.']]\n",
      "\n",
      "21 Image phase shift invariance based cloud motion displacement vector calculation method for ultra-short-term solar PV power forecasting , 2018-02-01 , [['Wang F.']]\n",
      "\n",
      "22 Energy consumption forecasting based on Elman neural networks with evolutive optimization , 2018-02-01 , [['Ruiz L.G.B.']]\n",
      "\n",
      "23 Shedding light on energy transition: Special issue dedicated to 2016 conferences on sustainable development of energy, water and environment systems , 2018-02-01 , [['Markovska N.']]\n",
      "\n",
      "24 Neural network based optimization approach for energy demand prediction in smart grid , 2018-01-17 , [['Muralitharan K.']]\n",
      "\n"
     ]
    }
   ],
   "source": [
    "scopus_ids=get_scopus_ids()\n",
    "print(\"number of scopus ids fetched : %d \" % len(scopus_ids))\n",
    "article_set=''\n",
    "article_set=pd.DataFrame()\n",
    "n=0\n",
    "for scopus_id in scopus_ids:\n",
    "    results_info = get_scopus_info(scopus_id[0])\n",
    "    results_text = get_scopus_text(scopus_id[0])\n",
    "    title=results_info['abstracts-retrieval-response']['coredata']['dc:title']\n",
    "    pubDate=results_info['abstracts-retrieval-response']['coredata']['prism:coverDate']\n",
    "    try:\n",
    "        abstract=results_text['full-text-retrieval-response']['coredata']['dc:description']\n",
    "    except:\n",
    "        abstract='(not available)'\n",
    "        \n",
    "    author=[[str(row['ce:indexed-name'])] for row in results_info['abstracts-retrieval-response']['coredata']['dc:creator']['author']]\n",
    "    print(\"%d %s , %s , %s\\n\"  %( n, title,pubDate,author))\n",
    "    #print(\"%s \\n\"  %(abstract))\n",
    "    article_set[n,'Scopus_ID']=scopus_id[0]\n",
    "    article_set[n,'title']=title\n",
    "    article_set[n,'pubDate']=pubDate\n",
    "    article_set[n,'abstract']=abstract\n",
    "    article_set[n,'author']=author[0][0]\n",
    "    n=n+1\n",
    "    "
   ]
  },
  {
   "cell_type": "code",
   "execution_count": 22,
   "metadata": {},
   "outputs": [
    {
     "data": {
      "text/html": [
       "<div>\n",
       "<style>\n",
       "    .dataframe thead tr:only-child th {\n",
       "        text-align: right;\n",
       "    }\n",
       "\n",
       "    .dataframe thead th {\n",
       "        text-align: left;\n",
       "    }\n",
       "\n",
       "    .dataframe tbody tr th {\n",
       "        vertical-align: top;\n",
       "    }\n",
       "</style>\n",
       "<table border=\"1\" class=\"dataframe\">\n",
       "  <thead>\n",
       "    <tr style=\"text-align: right;\">\n",
       "      <th></th>\n",
       "      <th>(0, Scopus_ID)</th>\n",
       "      <th>(0, title)</th>\n",
       "      <th>(0, pubDate)</th>\n",
       "      <th>(0, abstract)</th>\n",
       "      <th>(0, author)</th>\n",
       "      <th>(1, Scopus_ID)</th>\n",
       "      <th>(1, title)</th>\n",
       "      <th>(1, pubDate)</th>\n",
       "      <th>(1, abstract)</th>\n",
       "      <th>(1, author)</th>\n",
       "    </tr>\n",
       "  </thead>\n",
       "  <tbody>\n",
       "  </tbody>\n",
       "</table>\n",
       "</div>"
      ],
      "text/plain": [
       "Empty DataFrame\n",
       "Columns: [(0, Scopus_ID), (0, title), (0, pubDate), (0, abstract), (0, author), (1, Scopus_ID), (1, title), (1, pubDate), (1, abstract), (1, author)]\n",
       "Index: []"
      ]
     },
     "execution_count": 22,
     "metadata": {},
     "output_type": "execute_result"
    }
   ],
   "source": [
    "article_set"
   ]
  },
  {
   "cell_type": "code",
   "execution_count": null,
   "metadata": {
    "collapsed": true
   },
   "outputs": [],
   "source": []
  },
  {
   "cell_type": "code",
   "execution_count": null,
   "metadata": {
    "collapsed": true
   },
   "outputs": [],
   "source": []
  }
 ],
 "metadata": {
  "kernelspec": {
   "display_name": "Python 3",
   "language": "python",
   "name": "python3"
  },
  "language_info": {
   "codemirror_mode": {
    "name": "ipython",
    "version": 3
   },
   "file_extension": ".py",
   "mimetype": "text/x-python",
   "name": "python",
   "nbconvert_exporter": "python",
   "pygments_lexer": "ipython3",
   "version": "3.6.3"
  }
 },
 "nbformat": 4,
 "nbformat_minor": 2
}

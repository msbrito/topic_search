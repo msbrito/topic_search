{
 "cells": [
  {
   "cell_type": "markdown",
   "metadata": {},
   "source": [
    "# FETCH ARTICLES ABSTRACTS FROM SCOPUS SEARCH\n",
    "\n",
    "## Miguel Brito\n",
    "\n",
    "\n",
    "First you need an API KEY from Scopus, get it from https://dev.elsevier.com"
   ]
  },
  {
   "cell_type": "code",
   "execution_count": 20,
   "metadata": {
    "collapsed": true
   },
   "outputs": [],
   "source": [
    "\n",
    "API_KEY=\"dap9618fb94619c7600007661fff829e\"\n"
   ]
  },
  {
   "cell_type": "markdown",
   "metadata": {},
   "source": [
    "Your query in here"
   ]
  },
  {
   "cell_type": "code",
   "execution_count": 21,
   "metadata": {
    "collapsed": true
   },
   "outputs": [],
   "source": [
    "QUERY=\"MACHINE LEARNING FORECAST DEMAND \""
   ]
  },
  {
   "cell_type": "code",
   "execution_count": 22,
   "metadata": {
    "collapsed": true
   },
   "outputs": [],
   "source": [
    "import requests\n",
    "import json\n",
    "import pandas as pd"
   ]
  },
  {
   "cell_type": "code",
   "execution_count": 23,
   "metadata": {},
   "outputs": [],
   "source": [
    "def get_scopus_ids():\n",
    "    resp = requests.get(\"http://api.elsevier.com/content/search/scopus?query=%s\" % (QUERY),\n",
    "                        headers={'Accept':'application/json','X-ELS-APIKey': API_KEY})\n",
    "    results= json.loads(resp.text.encode('utf-8'))\n",
    "    return [[str(r['dc:identifier'])] for r in results['search-results'][\"entry\"]]"
   ]
  },
  {
   "cell_type": "code",
   "execution_count": 24,
   "metadata": {},
   "outputs": [],
   "source": [
    "def get_scopus_info(SCOPUS_ID):\n",
    "    url = (\"https://api.elsevier.com/content/abstract/scopus_id/\"+ SCOPUS_ID + \"?view=FULL\")\n",
    "    resp = requests.get(url,headers={'Accept':'application/json','X-ELS-APIKey': API_KEY})\n",
    "\n",
    "    return json.loads(resp.text.encode('utf-8'))"
   ]
  },
  {
   "cell_type": "code",
   "execution_count": 25,
   "metadata": {},
   "outputs": [],
   "source": [
    "def get_scopus_text(SCOPUS_ID):\n",
    "    url = (\"https://api.elsevier.com/content/article/scopus_id/\" + SCOPUS_ID + \"?view=FULL\")\n",
    "    resp = requests.get(url,headers={'Accept':'application/json','X-ELS-APIKey': API_KEY})\n",
    "    return json.loads(resp.text.encode('utf-8'))"
   ]
  },
  {
   "cell_type": "code",
   "execution_count": 38,
   "metadata": {},
   "outputs": [
    {
     "name": "stdout",
     "output_type": "stream",
     "text": [
      "number of scopus ids fetched : 25 \n"
     ]
    }
   ],
   "source": [
    "scopus_ids=get_scopus_ids()\n",
    "print(\"number of scopus ids fetched : %d \" % len(scopus_ids))\n",
    "article_data=[]\n",
    "n=0\n",
    "for scopus_id in scopus_ids:\n",
    "    results_info = get_scopus_info(scopus_id[0])\n",
    "    results_text = get_scopus_text(scopus_id[0])\n",
    "    title=results_info['abstracts-retrieval-response']['coredata']['dc:title']\n",
    "    pubDate=results_info['abstracts-retrieval-response']['coredata']['prism:coverDate']\n",
    "    try:\n",
    "        abstract=results_text['full-text-retrieval-response']['coredata']['dc:description']\n",
    "    except:\n",
    "        abstract='(not available)'\n",
    "    print(\"fetching %d...\" % (n+1)) \n",
    "    n=n+1\n",
    "    author=[[str(row['ce:indexed-name'])] for row in results_info['abstracts-retrieval-response']['coredata']['dc:creator']['author']]\n",
    "    article_data.append({'Scopus_ID' : scopus_id[0],'title':title,'pubDate':pubDate,'abstract': abstract,'author': author[0][0]})\n",
    "article_set=pd.DataFrame(article_data)"
   ]
  },
  {
   "cell_type": "code",
   "execution_count": 39,
   "metadata": {},
   "outputs": [
    {
     "data": {
      "text/html": [
       "<div>\n",
       "<style>\n",
       "    .dataframe thead tr:only-child th {\n",
       "        text-align: right;\n",
       "    }\n",
       "\n",
       "    .dataframe thead th {\n",
       "        text-align: left;\n",
       "    }\n",
       "\n",
       "    .dataframe tbody tr th {\n",
       "        vertical-align: top;\n",
       "    }\n",
       "</style>\n",
       "<table border=\"1\" class=\"dataframe\">\n",
       "  <thead>\n",
       "    <tr style=\"text-align: right;\">\n",
       "      <th></th>\n",
       "      <th>Scopus_ID</th>\n",
       "      <th>abstract</th>\n",
       "      <th>author</th>\n",
       "      <th>pubDate</th>\n",
       "      <th>title</th>\n",
       "    </tr>\n",
       "  </thead>\n",
       "  <tbody>\n",
       "    <tr>\n",
       "      <th>0</th>\n",
       "      <td>SCOPUS_ID:85035128299</td>\n",
       "      <td>Abstract\\n               \\n                  T...</td>\n",
       "      <td>Lee M.</td>\n",
       "      <td>2018-06-01</td>\n",
       "      <td>Modeling and forecasting hotel room demand bas...</td>\n",
       "    </tr>\n",
       "    <tr>\n",
       "      <th>1</th>\n",
       "      <td>SCOPUS_ID:85038847134</td>\n",
       "      <td>(not available)</td>\n",
       "      <td>Sevlian R.</td>\n",
       "      <td>2018-06-01</td>\n",
       "      <td>A scaling law for short term load forecasting ...</td>\n",
       "    </tr>\n",
       "    <tr>\n",
       "      <th>2</th>\n",
       "      <td>SCOPUS_ID:85036467319</td>\n",
       "      <td>Abstract\\n               \\n                  C...</td>\n",
       "      <td>Kumar J.</td>\n",
       "      <td>2018-04-01</td>\n",
       "      <td>Workload prediction in cloud using artificial ...</td>\n",
       "    </tr>\n",
       "    <tr>\n",
       "      <th>3</th>\n",
       "      <td>SCOPUS_ID:85038816447</td>\n",
       "      <td>Abstract\\n               \\n                  O...</td>\n",
       "      <td>Ma Y.</td>\n",
       "      <td>2018-04-01</td>\n",
       "      <td>Effects of user-provided photos on hotel revie...</td>\n",
       "    </tr>\n",
       "    <tr>\n",
       "      <th>4</th>\n",
       "      <td>SCOPUS_ID:85034053217</td>\n",
       "      <td>Abstract\\n               \\n                  I...</td>\n",
       "      <td>Naik J.</td>\n",
       "      <td>2018-04-01</td>\n",
       "      <td>Short term wind power forecasting using hybrid...</td>\n",
       "    </tr>\n",
       "  </tbody>\n",
       "</table>\n",
       "</div>"
      ],
      "text/plain": [
       "               Scopus_ID                                           abstract  \\\n",
       "0  SCOPUS_ID:85035128299  Abstract\\n               \\n                  T...   \n",
       "1  SCOPUS_ID:85038847134                                    (not available)   \n",
       "2  SCOPUS_ID:85036467319  Abstract\\n               \\n                  C...   \n",
       "3  SCOPUS_ID:85038816447  Abstract\\n               \\n                  O...   \n",
       "4  SCOPUS_ID:85034053217  Abstract\\n               \\n                  I...   \n",
       "\n",
       "       author     pubDate                                              title  \n",
       "0      Lee M.  2018-06-01  Modeling and forecasting hotel room demand bas...  \n",
       "1  Sevlian R.  2018-06-01  A scaling law for short term load forecasting ...  \n",
       "2    Kumar J.  2018-04-01  Workload prediction in cloud using artificial ...  \n",
       "3       Ma Y.  2018-04-01  Effects of user-provided photos on hotel revie...  \n",
       "4     Naik J.  2018-04-01  Short term wind power forecasting using hybrid...  "
      ]
     },
     "execution_count": 39,
     "metadata": {},
     "output_type": "execute_result"
    }
   ],
   "source": [
    "article_set.head()\n",
    "   "
   ]
  },
  {
   "cell_type": "code",
   "execution_count": null,
   "metadata": {
    "collapsed": true
   },
   "outputs": [],
   "source": []
  }
 ],
 "metadata": {
  "kernelspec": {
   "display_name": "Python 3",
   "language": "python",
   "name": "python3"
  },
  "language_info": {
   "codemirror_mode": {
    "name": "ipython",
    "version": 3
   },
   "file_extension": ".py",
   "mimetype": "text/x-python",
   "name": "python",
   "nbconvert_exporter": "python",
   "pygments_lexer": "ipython3",
   "version": "3.6.3"
  }
 },
 "nbformat": 4,
 "nbformat_minor": 2
}

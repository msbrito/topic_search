{
 "cells": [
  {
   "cell_type": "markdown",
   "metadata": {},
   "source": [
    "# Fetch Articles Abstracts from Scopus Search API\n",
    "\n",
    "### by Miguel Silva Brito\n",
    "\n",
    "### Dec, 2017\n",
    "\n",
    "First you need an API KEY from Scopus, get it from https://dev.elsevier.com\n",
    "\n",
    "Remember to connect to your University VPN first!\n"
   ]
  },
  {
   "cell_type": "code",
   "execution_count": null,
   "metadata": {
    "collapsed": true
   },
   "outputs": [],
   "source": [
    "API_KEY=\"\"##### <<<<<<<< CHANGE HERE!!!!"
   ]
  },
  {
   "cell_type": "code",
   "execution_count": 1,
   "metadata": {
    "collapsed": true
   },
   "outputs": [],
   "source": [
    "#max number of results to fetch each time depending of Service Level in Scopus API \n",
    "COUNT=200"
   ]
  },
  {
   "cell_type": "markdown",
   "metadata": {},
   "source": [
    "Your query in here"
   ]
  },
  {
   "cell_type": "code",
   "execution_count": 2,
   "metadata": {
    "collapsed": true
   },
   "outputs": [],
   "source": [
    "QUERY=\"MACHINE LEARNING FORECAST DEMAND \""
   ]
  },
  {
   "cell_type": "code",
   "execution_count": 3,
   "metadata": {
    "collapsed": true
   },
   "outputs": [],
   "source": [
    "import requests\n",
    "import json\n",
    "import pandas as pd"
   ]
  },
  {
   "cell_type": "markdown",
   "metadata": {},
   "source": [
    "### Search request to Scopus API"
   ]
  },
  {
   "cell_type": "code",
   "execution_count": 4,
   "metadata": {},
   "outputs": [],
   "source": [
    "def run_scopus_search(start):\n",
    "    resp = requests.get(\"http://api.elsevier.com/content/search/scopus?start=%s&count=%s&query=%s\" % (str(start),str(COUNT),QUERY),\n",
    "                        headers={'Accept':'application/json','X-ELS-APIKey': API_KEY})\n",
    "    results= json.loads(resp.text.encode('utf-8'))\n",
    "    return results"
   ]
  },
  {
   "cell_type": "markdown",
   "metadata": {},
   "source": [
    "### Return scopus IDs from results "
   ]
  },
  {
   "cell_type": "code",
   "execution_count": 5,
   "metadata": {
    "collapsed": true
   },
   "outputs": [],
   "source": [
    "def get_scopus_ids(results):\n",
    "    return [[str(r['dc:identifier'])] for r in results['search-results'][\"entry\"]]"
   ]
  },
  {
   "cell_type": "markdown",
   "metadata": {},
   "source": [
    "### Return total numbers of articles found "
   ]
  },
  {
   "cell_type": "code",
   "execution_count": 6,
   "metadata": {
    "collapsed": true
   },
   "outputs": [],
   "source": [
    "def get_totalResults(results):\n",
    "    return int(results['search-results']['opensearch:totalResults'])"
   ]
  },
  {
   "cell_type": "markdown",
   "metadata": {},
   "source": [
    "### Return basic info about article"
   ]
  },
  {
   "cell_type": "code",
   "execution_count": 7,
   "metadata": {},
   "outputs": [],
   "source": [
    "def get_scopus_info(SCOPUS_ID):\n",
    "    url = (\"https://api.elsevier.com/content/abstract/scopus_id/\"+ SCOPUS_ID + \"?view=FULL\")\n",
    "    resp = requests.get(url,headers={'Accept':'application/json','X-ELS-APIKey': API_KEY})\n",
    "\n",
    "    return json.loads(resp.text.encode('utf-8'))"
   ]
  },
  {
   "cell_type": "markdown",
   "metadata": {},
   "source": [
    "### Return abstract article"
   ]
  },
  {
   "cell_type": "code",
   "execution_count": 8,
   "metadata": {},
   "outputs": [],
   "source": [
    "def get_scopus_text(SCOPUS_ID):\n",
    "    url = (\"https://api.elsevier.com/content/article/scopus_id/\" + SCOPUS_ID + \"?view=FULL\")\n",
    "    resp = requests.get(url,headers={'Accept':'application/json','X-ELS-APIKey': API_KEY})\n",
    "    return json.loads(resp.text.encode('utf-8'))"
   ]
  },
  {
   "cell_type": "markdown",
   "metadata": {},
   "source": [
    "### Main\n",
    "\n",
    "run scopus search, return top 200 and number of total articles\n",
    "loop by next 200 until reach total articles\n",
    "\n",
    "write dataset to csv file"
   ]
  },
  {
   "cell_type": "code",
   "execution_count": null,
   "metadata": {},
   "outputs": [
    {
     "name": "stdout",
     "output_type": "stream",
     "text": [
      "number of scopus ids fetched : 200 de 4600\n",
      "fetching 1 / 4600...\n",
      "fetching 2 / 4600...\n",
      "fetching 3 / 4600...\n",
      "fetching 4 / 4600...\n",
      "fetching 5 / 4600...\n",
      "fetching 6 / 4600...\n",
      "fetching 7 / 4600...\n",
      "fetching 8 / 4600...\n",
      "fetching 9 / 4600...\n",
      "fetching 10 / 4600...\n",
      "fetching 11 / 4600...\n",
      "fetching 12 / 4600...\n",
      "fetching 13 / 4600...\n",
      "fetching 14 / 4600...\n",
      "fetching 15 / 4600...\n",
      "fetching 16 / 4600...\n",
      "fetching 17 / 4600...\n",
      "fetching 18 / 4600...\n",
      "fetching 19 / 4600...\n",
      "fetching 20 / 4600...\n",
      "fetching 21 / 4600...\n",
      "fetching 22 / 4600...\n",
      "fetching 23 / 4600...\n",
      "fetching 24 / 4600...\n",
      "fetching 25 / 4600...\n",
      "fetching 26 / 4600...\n",
      "fetching 27 / 4600...\n",
      "fetching 28 / 4600...\n",
      "fetching 29 / 4600...\n",
      "fetching 30 / 4600...\n",
      "fetching 31 / 4600...\n",
      "fetching 32 / 4600...\n",
      "fetching 33 / 4600...\n",
      "fetching 34 / 4600...\n",
      "fetching 35 / 4600...\n",
      "fetching 36 / 4600...\n",
      "fetching 37 / 4600...\n",
      "fetching 38 / 4600...\n",
      "fetching 39 / 4600...\n",
      "fetching 40 / 4600...\n",
      "fetching 41 / 4600...\n",
      "fetching 42 / 4600...\n",
      "fetching 43 / 4600...\n",
      "fetching 44 / 4600...\n",
      "fetching 45 / 4600...\n",
      "fetching 46 / 4600...\n",
      "fetching 47 / 4600...\n",
      "fetching 48 / 4600...\n",
      "fetching 49 / 4600...\n",
      "fetching 50 / 4600...\n",
      "fetching 51 / 4600...\n",
      "fetching 52 / 4600...\n"
     ]
    }
   ],
   "source": [
    "start=0\n",
    "article_data=[]\n",
    "\n",
    "n=0\n",
    "\n",
    "results=run_scopus_search(start)\n",
    "totalResults=get_totalResults(results)\n",
    "\n",
    "scopus_ids=get_scopus_ids(results)\n",
    "n_ids_fetched =len(scopus_ids)\n",
    "print(\"number of scopus ids fetched : %d de %d\" % (n_ids_fetched,totalResults))\n",
    "\n",
    "while (n<totalResults):\n",
    "    for scopus_id in scopus_ids:\n",
    "        results_info = get_scopus_info(scopus_id[0])\n",
    "        results_text = get_scopus_text(scopus_id[0])\n",
    "        title=results_info['abstracts-retrieval-response']['coredata']['dc:title']\n",
    "        pubDate=results_info['abstracts-retrieval-response']['coredata']['prism:coverDate']\n",
    "        try:\n",
    "            abstract=str(results_text['full-text-retrieval-response']['coredata']['dc:description'])\n",
    "            abstract=abstract.replace('Abstract\\n               \\n                  ','')\n",
    "        except:\n",
    "            abstract='(not available)'\n",
    "        print(\"fetching %d / %d...\" % (n+1,totalResults)) \n",
    "        n=n+1\n",
    "        author=[[str(row['ce:indexed-name'])] for row in results_info['abstracts-retrieval-response']['coredata']['dc:creator']['author']]\n",
    "        article_data.append({'Scopus_ID' : scopus_id[0],'title':title,'pubDate':pubDate,'abstract': abstract,'author': author[0][0]})\n",
    "    article_set=pd.DataFrame(article_data)\n",
    "    article_data=[]\n",
    "    if (start==0):\n",
    "        article_set.to_csv(\"./data/scopus_search_base.csv\")\n",
    "    else:\n",
    "        article_set.to_csv(\"./data/scopus_search_base.csv\",\"a\")\n",
    "    start=start+n_ids_fetched\n",
    "    results=run_scopus_search(start)\n",
    "    scopus_ids=get_scopus_ids(results)\n",
    "    n_ids_fetched =len(scopus_ids)\n",
    "    print(\"number of scopus ids fetched : %d de %d\" % (n_ids_fetched+start,totalResults))\n",
    "print(\"Finish!\")"
   ]
  },
  {
   "cell_type": "code",
   "execution_count": null,
   "metadata": {},
   "outputs": [],
   "source": [
    "article_set=pd.read_csv(\"./data/scopus_search_base.csv\") \n",
    "print(article_set.info)\n",
    "print(article_set.head)"
   ]
  },
  {
   "cell_type": "code",
   "execution_count": null,
   "metadata": {
    "collapsed": true
   },
   "outputs": [],
   "source": []
  }
 ],
 "metadata": {
  "kernelspec": {
   "display_name": "Python 3",
   "language": "python",
   "name": "python3"
  },
  "language_info": {
   "codemirror_mode": {
    "name": "ipython",
    "version": 3
   },
   "file_extension": ".py",
   "mimetype": "text/x-python",
   "name": "python",
   "nbconvert_exporter": "python",
   "pygments_lexer": "ipython3",
   "version": "3.6.3"
  }
 },
 "nbformat": 4,
 "nbformat_minor": 2
}
